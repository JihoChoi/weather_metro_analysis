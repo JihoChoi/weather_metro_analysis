{
 "cells": [
  {
   "cell_type": "code",
   "execution_count": 42,
   "metadata": {
    "collapsed": false
   },
   "outputs": [],
   "source": [
    "import pandas as pd\n",
    "import numpy as np\n",
    "from sklearn.model_selection import train_test_split\n",
    "from sklearn.ensemble import GradientBoostingRegressor\n",
    "from sklearn.ensemble import RandomForestRegressor\n",
    "\n",
    "np.random.seed(17)"
   ]
  },
  {
   "cell_type": "code",
   "execution_count": 33,
   "metadata": {
    "collapsed": false
   },
   "outputs": [],
   "source": [
    "dataset=pd.read_csv('dataset_metro_weather_sunlok.csv',encoding='euc-kr',engine='python')"
   ]
  },
  {
   "cell_type": "code",
   "execution_count": 3,
   "metadata": {
    "collapsed": false
   },
   "outputs": [],
   "source": [
    "dataset.set_index('날짜',inplace=True)"
   ]
  },
  {
   "cell_type": "code",
   "execution_count": 34,
   "metadata": {
    "collapsed": false
   },
   "outputs": [],
   "source": [
    "dataset=pd.get_dummies(dataset,prefix='',prefix_sep='',columns=['요일'])"
   ]
  },
  {
   "cell_type": "code",
   "execution_count": 35,
   "metadata": {
    "collapsed": false
   },
   "outputs": [
    {
     "data": {
      "text/plain": [
       "Index(['날짜', '16~17유입인구', '17~18유입인구', '18~19유입인구', '19~20유입인구', '20~21유입인구',\n",
       "       '21~22유입인구', '22~23유입인구', '기온', '강수량', '습도', '공휴일', '23~26', 'Friday',\n",
       "       'Monday', 'Saturday', 'Sunday', 'Thursday', 'Tuesday', 'Wednesday'],\n",
       "      dtype='object')"
      ]
     },
     "execution_count": 35,
     "metadata": {},
     "output_type": "execute_result"
    }
   ],
   "source": [
    "dataset.columns"
   ]
  },
  {
   "cell_type": "code",
   "execution_count": 36,
   "metadata": {
    "collapsed": true
   },
   "outputs": [],
   "source": [
    "dataset=dataset[['날짜','16~17유입인구', '17~18유입인구', '18~19유입인구', '19~20유입인구', '20~21유입인구',\n",
    "       '21~22유입인구', '22~23유입인구', '기온', '강수량', '습도', '공휴일',\n",
    "       'Monday', 'Tuesday', 'Wednesday', 'Thursday', 'Friday','Saturday', 'Sunday', '23~26']]"
   ]
  },
  {
   "cell_type": "code",
   "execution_count": 37,
   "metadata": {
    "collapsed": false
   },
   "outputs": [
    {
     "data": {
      "text/html": [
       "<div>\n",
       "<table border=\"1\" class=\"dataframe\">\n",
       "  <thead>\n",
       "    <tr style=\"text-align: right;\">\n",
       "      <th></th>\n",
       "      <th>날짜</th>\n",
       "      <th>16~17유입인구</th>\n",
       "      <th>17~18유입인구</th>\n",
       "      <th>18~19유입인구</th>\n",
       "      <th>19~20유입인구</th>\n",
       "      <th>20~21유입인구</th>\n",
       "      <th>21~22유입인구</th>\n",
       "      <th>22~23유입인구</th>\n",
       "      <th>기온</th>\n",
       "      <th>강수량</th>\n",
       "      <th>습도</th>\n",
       "      <th>공휴일</th>\n",
       "      <th>Monday</th>\n",
       "      <th>Tuesday</th>\n",
       "      <th>Wednesday</th>\n",
       "      <th>Thursday</th>\n",
       "      <th>Friday</th>\n",
       "      <th>Saturday</th>\n",
       "      <th>Sunday</th>\n",
       "      <th>23~26</th>\n",
       "    </tr>\n",
       "  </thead>\n",
       "  <tbody>\n",
       "    <tr>\n",
       "      <th>0</th>\n",
       "      <td>2010-01-01</td>\n",
       "      <td>214</td>\n",
       "      <td>628</td>\n",
       "      <td>922</td>\n",
       "      <td>384</td>\n",
       "      <td>-5</td>\n",
       "      <td>-704</td>\n",
       "      <td>-1319</td>\n",
       "      <td>-4.700000</td>\n",
       "      <td>0.0</td>\n",
       "      <td>54.500000</td>\n",
       "      <td>1</td>\n",
       "      <td>0.0</td>\n",
       "      <td>0.0</td>\n",
       "      <td>0.0</td>\n",
       "      <td>0.0</td>\n",
       "      <td>1.0</td>\n",
       "      <td>0.0</td>\n",
       "      <td>0.0</td>\n",
       "      <td>1515</td>\n",
       "    </tr>\n",
       "    <tr>\n",
       "      <th>1</th>\n",
       "      <td>2010-01-02</td>\n",
       "      <td>908</td>\n",
       "      <td>1466</td>\n",
       "      <td>1652</td>\n",
       "      <td>581</td>\n",
       "      <td>-1036</td>\n",
       "      <td>-1646</td>\n",
       "      <td>-2892</td>\n",
       "      <td>-5.500000</td>\n",
       "      <td>0.0</td>\n",
       "      <td>68.333333</td>\n",
       "      <td>1</td>\n",
       "      <td>0.0</td>\n",
       "      <td>0.0</td>\n",
       "      <td>0.0</td>\n",
       "      <td>0.0</td>\n",
       "      <td>0.0</td>\n",
       "      <td>1.0</td>\n",
       "      <td>0.0</td>\n",
       "      <td>2853</td>\n",
       "    </tr>\n",
       "    <tr>\n",
       "      <th>2</th>\n",
       "      <td>2010-01-03</td>\n",
       "      <td>917</td>\n",
       "      <td>832</td>\n",
       "      <td>931</td>\n",
       "      <td>-108</td>\n",
       "      <td>-1244</td>\n",
       "      <td>-1297</td>\n",
       "      <td>-1968</td>\n",
       "      <td>-6.000000</td>\n",
       "      <td>0.0</td>\n",
       "      <td>55.000000</td>\n",
       "      <td>1</td>\n",
       "      <td>0.0</td>\n",
       "      <td>0.0</td>\n",
       "      <td>0.0</td>\n",
       "      <td>0.0</td>\n",
       "      <td>0.0</td>\n",
       "      <td>0.0</td>\n",
       "      <td>1.0</td>\n",
       "      <td>1537</td>\n",
       "    </tr>\n",
       "    <tr>\n",
       "      <th>3</th>\n",
       "      <td>2010-01-04</td>\n",
       "      <td>-1583</td>\n",
       "      <td>-349</td>\n",
       "      <td>562</td>\n",
       "      <td>1512</td>\n",
       "      <td>-1442</td>\n",
       "      <td>-2031</td>\n",
       "      <td>-2848</td>\n",
       "      <td>-6.466667</td>\n",
       "      <td>0.0</td>\n",
       "      <td>65.000000</td>\n",
       "      <td>0</td>\n",
       "      <td>1.0</td>\n",
       "      <td>0.0</td>\n",
       "      <td>0.0</td>\n",
       "      <td>0.0</td>\n",
       "      <td>0.0</td>\n",
       "      <td>0.0</td>\n",
       "      <td>0.0</td>\n",
       "      <td>3165</td>\n",
       "    </tr>\n",
       "    <tr>\n",
       "      <th>4</th>\n",
       "      <td>2010-01-05</td>\n",
       "      <td>-660</td>\n",
       "      <td>-338</td>\n",
       "      <td>918</td>\n",
       "      <td>2154</td>\n",
       "      <td>-1037</td>\n",
       "      <td>-2495</td>\n",
       "      <td>-3023</td>\n",
       "      <td>-10.600000</td>\n",
       "      <td>0.0</td>\n",
       "      <td>70.666667</td>\n",
       "      <td>0</td>\n",
       "      <td>0.0</td>\n",
       "      <td>1.0</td>\n",
       "      <td>0.0</td>\n",
       "      <td>0.0</td>\n",
       "      <td>0.0</td>\n",
       "      <td>0.0</td>\n",
       "      <td>0.0</td>\n",
       "      <td>3484</td>\n",
       "    </tr>\n",
       "  </tbody>\n",
       "</table>\n",
       "</div>"
      ],
      "text/plain": [
       "           날짜  16~17유입인구  17~18유입인구  18~19유입인구  19~20유입인구  20~21유입인구  \\\n",
       "0  2010-01-01        214        628        922        384         -5   \n",
       "1  2010-01-02        908       1466       1652        581      -1036   \n",
       "2  2010-01-03        917        832        931       -108      -1244   \n",
       "3  2010-01-04      -1583       -349        562       1512      -1442   \n",
       "4  2010-01-05       -660       -338        918       2154      -1037   \n",
       "\n",
       "   21~22유입인구  22~23유입인구         기온  강수량         습도  공휴일  Monday  Tuesday  \\\n",
       "0       -704      -1319  -4.700000  0.0  54.500000    1     0.0      0.0   \n",
       "1      -1646      -2892  -5.500000  0.0  68.333333    1     0.0      0.0   \n",
       "2      -1297      -1968  -6.000000  0.0  55.000000    1     0.0      0.0   \n",
       "3      -2031      -2848  -6.466667  0.0  65.000000    0     1.0      0.0   \n",
       "4      -2495      -3023 -10.600000  0.0  70.666667    0     0.0      1.0   \n",
       "\n",
       "   Wednesday  Thursday  Friday  Saturday  Sunday  23~26  \n",
       "0        0.0       0.0     1.0       0.0     0.0   1515  \n",
       "1        0.0       0.0     0.0       1.0     0.0   2853  \n",
       "2        0.0       0.0     0.0       0.0     1.0   1537  \n",
       "3        0.0       0.0     0.0       0.0     0.0   3165  \n",
       "4        0.0       0.0     0.0       0.0     0.0   3484  "
      ]
     },
     "execution_count": 37,
     "metadata": {},
     "output_type": "execute_result"
    }
   ],
   "source": [
    "dataset.head()"
   ]
  },
  {
   "cell_type": "code",
   "execution_count": 38,
   "metadata": {
    "collapsed": false
   },
   "outputs": [],
   "source": [
    "dataset.to_csv('reformed_dataset.csv',index=False)"
   ]
  },
  {
   "cell_type": "code",
   "execution_count": 8,
   "metadata": {
    "collapsed": false
   },
   "outputs": [],
   "source": [
    "X=dataset[dataset.columns[:-1]]\n",
    "Y=dataset['23~26']"
   ]
  },
  {
   "cell_type": "code",
   "execution_count": 9,
   "metadata": {
    "collapsed": false
   },
   "outputs": [
    {
     "data": {
      "text/html": [
       "<div>\n",
       "<table border=\"1\" class=\"dataframe\">\n",
       "  <thead>\n",
       "    <tr style=\"text-align: right;\">\n",
       "      <th></th>\n",
       "      <th>16~17유입인구</th>\n",
       "      <th>17~18유입인구</th>\n",
       "      <th>18~19유입인구</th>\n",
       "      <th>19~20유입인구</th>\n",
       "      <th>20~21유입인구</th>\n",
       "      <th>21~22유입인구</th>\n",
       "      <th>22~23유입인구</th>\n",
       "      <th>기온</th>\n",
       "      <th>강수량</th>\n",
       "      <th>습도</th>\n",
       "      <th>공휴일</th>\n",
       "      <th>Monday</th>\n",
       "      <th>Tuesday</th>\n",
       "      <th>Wednesday</th>\n",
       "      <th>Thursday</th>\n",
       "      <th>Friday</th>\n",
       "      <th>Saturday</th>\n",
       "      <th>Sunday</th>\n",
       "    </tr>\n",
       "    <tr>\n",
       "      <th>날짜</th>\n",
       "      <th></th>\n",
       "      <th></th>\n",
       "      <th></th>\n",
       "      <th></th>\n",
       "      <th></th>\n",
       "      <th></th>\n",
       "      <th></th>\n",
       "      <th></th>\n",
       "      <th></th>\n",
       "      <th></th>\n",
       "      <th></th>\n",
       "      <th></th>\n",
       "      <th></th>\n",
       "      <th></th>\n",
       "      <th></th>\n",
       "      <th></th>\n",
       "      <th></th>\n",
       "      <th></th>\n",
       "    </tr>\n",
       "  </thead>\n",
       "  <tbody>\n",
       "    <tr>\n",
       "      <th>2010-01-01</th>\n",
       "      <td>214</td>\n",
       "      <td>628</td>\n",
       "      <td>922</td>\n",
       "      <td>384</td>\n",
       "      <td>-5</td>\n",
       "      <td>-704</td>\n",
       "      <td>-1319</td>\n",
       "      <td>-4.700000</td>\n",
       "      <td>0.0</td>\n",
       "      <td>54.500000</td>\n",
       "      <td>1</td>\n",
       "      <td>0.0</td>\n",
       "      <td>0.0</td>\n",
       "      <td>0.0</td>\n",
       "      <td>0.0</td>\n",
       "      <td>1.0</td>\n",
       "      <td>0.0</td>\n",
       "      <td>0.0</td>\n",
       "    </tr>\n",
       "    <tr>\n",
       "      <th>2010-01-02</th>\n",
       "      <td>908</td>\n",
       "      <td>1466</td>\n",
       "      <td>1652</td>\n",
       "      <td>581</td>\n",
       "      <td>-1036</td>\n",
       "      <td>-1646</td>\n",
       "      <td>-2892</td>\n",
       "      <td>-5.500000</td>\n",
       "      <td>0.0</td>\n",
       "      <td>68.333333</td>\n",
       "      <td>1</td>\n",
       "      <td>0.0</td>\n",
       "      <td>0.0</td>\n",
       "      <td>0.0</td>\n",
       "      <td>0.0</td>\n",
       "      <td>0.0</td>\n",
       "      <td>1.0</td>\n",
       "      <td>0.0</td>\n",
       "    </tr>\n",
       "    <tr>\n",
       "      <th>2010-01-03</th>\n",
       "      <td>917</td>\n",
       "      <td>832</td>\n",
       "      <td>931</td>\n",
       "      <td>-108</td>\n",
       "      <td>-1244</td>\n",
       "      <td>-1297</td>\n",
       "      <td>-1968</td>\n",
       "      <td>-6.000000</td>\n",
       "      <td>0.0</td>\n",
       "      <td>55.000000</td>\n",
       "      <td>1</td>\n",
       "      <td>0.0</td>\n",
       "      <td>0.0</td>\n",
       "      <td>0.0</td>\n",
       "      <td>0.0</td>\n",
       "      <td>0.0</td>\n",
       "      <td>0.0</td>\n",
       "      <td>1.0</td>\n",
       "    </tr>\n",
       "    <tr>\n",
       "      <th>2010-01-04</th>\n",
       "      <td>-1583</td>\n",
       "      <td>-349</td>\n",
       "      <td>562</td>\n",
       "      <td>1512</td>\n",
       "      <td>-1442</td>\n",
       "      <td>-2031</td>\n",
       "      <td>-2848</td>\n",
       "      <td>-6.466667</td>\n",
       "      <td>0.0</td>\n",
       "      <td>65.000000</td>\n",
       "      <td>0</td>\n",
       "      <td>1.0</td>\n",
       "      <td>0.0</td>\n",
       "      <td>0.0</td>\n",
       "      <td>0.0</td>\n",
       "      <td>0.0</td>\n",
       "      <td>0.0</td>\n",
       "      <td>0.0</td>\n",
       "    </tr>\n",
       "    <tr>\n",
       "      <th>2010-01-05</th>\n",
       "      <td>-660</td>\n",
       "      <td>-338</td>\n",
       "      <td>918</td>\n",
       "      <td>2154</td>\n",
       "      <td>-1037</td>\n",
       "      <td>-2495</td>\n",
       "      <td>-3023</td>\n",
       "      <td>-10.600000</td>\n",
       "      <td>0.0</td>\n",
       "      <td>70.666667</td>\n",
       "      <td>0</td>\n",
       "      <td>0.0</td>\n",
       "      <td>1.0</td>\n",
       "      <td>0.0</td>\n",
       "      <td>0.0</td>\n",
       "      <td>0.0</td>\n",
       "      <td>0.0</td>\n",
       "      <td>0.0</td>\n",
       "    </tr>\n",
       "  </tbody>\n",
       "</table>\n",
       "</div>"
      ],
      "text/plain": [
       "            16~17유입인구  17~18유입인구  18~19유입인구  19~20유입인구  20~21유입인구  21~22유입인구  \\\n",
       "날짜                                                                             \n",
       "2010-01-01        214        628        922        384         -5       -704   \n",
       "2010-01-02        908       1466       1652        581      -1036      -1646   \n",
       "2010-01-03        917        832        931       -108      -1244      -1297   \n",
       "2010-01-04      -1583       -349        562       1512      -1442      -2031   \n",
       "2010-01-05       -660       -338        918       2154      -1037      -2495   \n",
       "\n",
       "            22~23유입인구         기온  강수량         습도  공휴일  Monday  Tuesday  \\\n",
       "날짜                                                                       \n",
       "2010-01-01      -1319  -4.700000  0.0  54.500000    1     0.0      0.0   \n",
       "2010-01-02      -2892  -5.500000  0.0  68.333333    1     0.0      0.0   \n",
       "2010-01-03      -1968  -6.000000  0.0  55.000000    1     0.0      0.0   \n",
       "2010-01-04      -2848  -6.466667  0.0  65.000000    0     1.0      0.0   \n",
       "2010-01-05      -3023 -10.600000  0.0  70.666667    0     0.0      1.0   \n",
       "\n",
       "            Wednesday  Thursday  Friday  Saturday  Sunday  \n",
       "날짜                                                         \n",
       "2010-01-01        0.0       0.0     1.0       0.0     0.0  \n",
       "2010-01-02        0.0       0.0     0.0       1.0     0.0  \n",
       "2010-01-03        0.0       0.0     0.0       0.0     1.0  \n",
       "2010-01-04        0.0       0.0     0.0       0.0     0.0  \n",
       "2010-01-05        0.0       0.0     0.0       0.0     0.0  "
      ]
     },
     "execution_count": 9,
     "metadata": {},
     "output_type": "execute_result"
    }
   ],
   "source": [
    "X.head()"
   ]
  },
  {
   "cell_type": "code",
   "execution_count": 63,
   "metadata": {
    "collapsed": true
   },
   "outputs": [],
   "source": [
    "x_train, x_test, y_train, y_test = train_test_split(X,Y,test_size=0.2,random_state=16)"
   ]
  },
  {
   "cell_type": "code",
   "execution_count": 27,
   "metadata": {
    "collapsed": true
   },
   "outputs": [],
   "source": [
    "gbr=GradientBoostingRegressor(n_estimators=100,max_depth=20)"
   ]
  },
  {
   "cell_type": "code",
   "execution_count": 28,
   "metadata": {
    "collapsed": true
   },
   "outputs": [],
   "source": [
    "gbr=gbr.fit(x_train,y_train)"
   ]
  },
  {
   "cell_type": "code",
   "execution_count": 29,
   "metadata": {
    "collapsed": true
   },
   "outputs": [],
   "source": [
    "y_pred=gbr.predict(x_test)"
   ]
  },
  {
   "cell_type": "code",
   "execution_count": 30,
   "metadata": {
    "collapsed": true
   },
   "outputs": [],
   "source": [
    "from sklearn.metrics import mean_squared_error"
   ]
  },
  {
   "cell_type": "code",
   "execution_count": 31,
   "metadata": {
    "collapsed": false
   },
   "outputs": [
    {
     "data": {
      "text/plain": [
       "294473.07200696581"
      ]
     },
     "execution_count": 31,
     "metadata": {},
     "output_type": "execute_result"
    }
   ],
   "source": [
    "mean_squared_error(y_test,y_pred)"
   ]
  },
  {
   "cell_type": "code",
   "execution_count": 41,
   "metadata": {
    "collapsed": false
   },
   "outputs": [
    {
     "data": {
      "text/plain": [
       "542.65373121997959"
      ]
     },
     "execution_count": 41,
     "metadata": {},
     "output_type": "execute_result"
    }
   ],
   "source": [
    "np.sqrt(mean_squared_error(y_test,y_pred))"
   ]
  },
  {
   "cell_type": "code",
   "execution_count": 64,
   "metadata": {
    "collapsed": true
   },
   "outputs": [],
   "source": [
    "forest=RandomForestRegressor(n_estimators=150,max_depth=40)"
   ]
  },
  {
   "cell_type": "code",
   "execution_count": 65,
   "metadata": {
    "collapsed": true
   },
   "outputs": [],
   "source": [
    "forest=forest.fit(x_train,y_train)"
   ]
  },
  {
   "cell_type": "code",
   "execution_count": 66,
   "metadata": {
    "collapsed": true
   },
   "outputs": [],
   "source": [
    "y_pred=forest.predict(x_test)"
   ]
  },
  {
   "cell_type": "code",
   "execution_count": 46,
   "metadata": {
    "collapsed": false
   },
   "outputs": [
    {
     "data": {
      "text/plain": [
       "440.28944449170211"
      ]
     },
     "execution_count": 46,
     "metadata": {},
     "output_type": "execute_result"
    }
   ],
   "source": [
    "# depth: 20, tree:100\n",
    "np.sqrt(mean_squared_error(y_test,y_pred))"
   ]
  },
  {
   "cell_type": "code",
   "execution_count": 50,
   "metadata": {
    "collapsed": false
   },
   "outputs": [
    {
     "data": {
      "text/plain": [
       "442.14679585200122"
      ]
     },
     "execution_count": 50,
     "metadata": {},
     "output_type": "execute_result"
    }
   ],
   "source": [
    "# depth:25, tree:100\n",
    "np.sqrt(mean_squared_error(y_test,y_pred))"
   ]
  },
  {
   "cell_type": "code",
   "execution_count": 54,
   "metadata": {
    "collapsed": false
   },
   "outputs": [
    {
     "data": {
      "text/plain": [
       "439.12662978379143"
      ]
     },
     "execution_count": 54,
     "metadata": {},
     "output_type": "execute_result"
    }
   ],
   "source": [
    "# depth:30, tree:100\n",
    "np.sqrt(mean_squared_error(y_test,y_pred))"
   ]
  },
  {
   "cell_type": "code",
   "execution_count": 58,
   "metadata": {
    "collapsed": false
   },
   "outputs": [
    {
     "data": {
      "text/plain": [
       "439.39928349568447"
      ]
     },
     "execution_count": 58,
     "metadata": {},
     "output_type": "execute_result"
    }
   ],
   "source": [
    "# depth:30, tree:150\n",
    "np.sqrt(mean_squared_error(y_test,y_pred))"
   ]
  },
  {
   "cell_type": "code",
   "execution_count": 67,
   "metadata": {
    "collapsed": false
   },
   "outputs": [
    {
     "data": {
      "text/plain": [
       "351.48206207505712"
      ]
     },
     "execution_count": 67,
     "metadata": {},
     "output_type": "execute_result"
    }
   ],
   "source": [
    "# depth:40, tree:150\n",
    "np.sqrt(mean_squared_error(y_test,y_pred))"
   ]
  },
  {
   "cell_type": "code",
   "execution_count": null,
   "metadata": {
    "collapsed": true
   },
   "outputs": [],
   "source": []
  }
 ],
 "metadata": {
  "anaconda-cloud": {},
  "kernelspec": {
   "display_name": "Python [conda root]",
   "language": "python",
   "name": "conda-root-py"
  },
  "language_info": {
   "codemirror_mode": {
    "name": "ipython",
    "version": 3
   },
   "file_extension": ".py",
   "mimetype": "text/x-python",
   "name": "python",
   "nbconvert_exporter": "python",
   "pygments_lexer": "ipython3",
   "version": "3.5.2"
  }
 },
 "nbformat": 4,
 "nbformat_minor": 1
}
